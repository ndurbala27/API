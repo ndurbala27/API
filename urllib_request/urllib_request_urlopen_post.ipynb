{
 "cells": [
  {
   "cell_type": "code",
   "execution_count": 1,
   "id": "5c0672d9",
   "metadata": {},
   "outputs": [],
   "source": [
    "from urllib import parse\n",
    "from urllib import request"
   ]
  },
  {
   "cell_type": "code",
   "execution_count": 2,
   "id": "19ff4691",
   "metadata": {},
   "outputs": [],
   "source": [
    "query_args = {'q': 'query string',\n",
    "              'foo': 'bar'}\n",
    "encoded_args = parse.urlencode(query_args).encode('utf-8')\n",
    "url = 'http://localhost:8080/'"
   ]
  },
  {
   "cell_type": "code",
   "execution_count": 3,
   "id": "3030fd56",
   "metadata": {},
   "outputs": [
    {
     "name": "stdout",
     "output_type": "stream",
     "text": [
      "Client: ('127.0.0.1', 56592)\n",
      "User-agent: Python-urllib/3.12\n",
      "Path: /\n",
      "Form data:\n",
      "\tfoo=bar\n",
      "\tq=query string\n",
      "\n"
     ]
    }
   ],
   "source": [
    "print(request.urlopen(url, encoded_args).read().decode('utf-8'))"
   ]
  },
  {
   "cell_type": "code",
   "execution_count": null,
   "id": "32f3a59e",
   "metadata": {},
   "outputs": [],
   "source": []
  }
 ],
 "metadata": {
  "kernelspec": {
   "display_name": "Python 3",
   "language": "python",
   "name": "python3"
  },
  "language_info": {
   "codemirror_mode": {
    "name": "ipython",
    "version": 3
   },
   "file_extension": ".py",
   "mimetype": "text/x-python",
   "name": "python",
   "nbconvert_exporter": "python",
   "pygments_lexer": "ipython3",
   "version": "3.12.10"
  }
 },
 "nbformat": 4,
 "nbformat_minor": 5
}
