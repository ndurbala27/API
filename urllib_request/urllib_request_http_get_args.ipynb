{
 "cells": [
  {
   "cell_type": "code",
   "execution_count": 1,
   "id": "70311e5d",
   "metadata": {},
   "outputs": [],
   "source": [
    "from urllib import parse\n",
    "from urllib import request"
   ]
  },
  {
   "cell_type": "code",
   "execution_count": 2,
   "id": "b261658e",
   "metadata": {},
   "outputs": [],
   "source": [
    "query_args = {'q': 'query string',\n",
    "              'foo': 'bar'}\n",
    "encoded_args = parse.urlencode(query_args)"
   ]
  },
  {
   "cell_type": "code",
   "execution_count": 3,
   "id": "17689b28",
   "metadata": {},
   "outputs": [
    {
     "name": "stdout",
     "output_type": "stream",
     "text": [
      "Encoded : q=query+string&foo=bar\n"
     ]
    }
   ],
   "source": [
    "print('Encoded :', encoded_args)"
   ]
  },
  {
   "cell_type": "code",
   "execution_count": 4,
   "id": "94e213f9",
   "metadata": {},
   "outputs": [],
   "source": [
    "url = 'http://localhost:8080/?' + encoded_args"
   ]
  },
  {
   "cell_type": "code",
   "execution_count": 5,
   "id": "85358003",
   "metadata": {},
   "outputs": [
    {
     "data": {
      "text/plain": [
       "'http://localhost:8080/?q=query+string&foo=bar'"
      ]
     },
     "execution_count": 5,
     "metadata": {},
     "output_type": "execute_result"
    }
   ],
   "source": [
    "url"
   ]
  },
  {
   "cell_type": "code",
   "execution_count": 6,
   "id": "a2bf816a",
   "metadata": {},
   "outputs": [
    {
     "name": "stdout",
     "output_type": "stream",
     "text": [
      "CLIENT VALUES:\n",
      "client_address=('127.0.0.1', 55958) (127.0.0.1)\n",
      "command=GET\n",
      "path=/?q=query+string&foo=bar\n",
      "real path=/\n",
      "query=q=query+string&foo=bar\n",
      "request_version=HTTP/1.1\n",
      "\n",
      "SERVER VALUES:\n",
      "server_version=BaseHTTP/0.6\n",
      "sys_version=Python/3.11.9\n",
      "protocol_version=HTTP/1.0\n",
      "\n",
      "HEADERS RECEIVED:\n",
      "Accept-Encoding=identity\n",
      "Connection=close\n",
      "Host=localhost:8080\n",
      "User-Agent=Python-urllib/3.12\n",
      "\n"
     ]
    }
   ],
   "source": [
    "print(request.urlopen(url).read().decode('utf-8'))"
   ]
  },
  {
   "cell_type": "code",
   "execution_count": null,
   "id": "8fddd7b1",
   "metadata": {},
   "outputs": [],
   "source": []
  }
 ],
 "metadata": {
  "kernelspec": {
   "display_name": "Python 3",
   "language": "python",
   "name": "python3"
  },
  "language_info": {
   "codemirror_mode": {
    "name": "ipython",
    "version": 3
   },
   "file_extension": ".py",
   "mimetype": "text/x-python",
   "name": "python",
   "nbconvert_exporter": "python",
   "pygments_lexer": "ipython3",
   "version": "3.12.10"
  }
 },
 "nbformat": 4,
 "nbformat_minor": 5
}
