{
 "cells": [
  {
   "cell_type": "code",
   "execution_count": 38,
   "id": "56fada03",
   "metadata": {},
   "outputs": [],
   "source": [
    "from urllib import request"
   ]
  },
  {
   "cell_type": "code",
   "execution_count": 39,
   "id": "5ff20a94",
   "metadata": {},
   "outputs": [],
   "source": [
    "response = request.urlopen('http://127.0.0.1:8080/')"
   ]
  },
  {
   "cell_type": "code",
   "execution_count": 40,
   "id": "9e92365a",
   "metadata": {},
   "outputs": [
    {
     "name": "stdout",
     "output_type": "stream",
     "text": [
      "RESPONSE : <http.client.HTTPResponse object at 0x000001FA24215060>\n"
     ]
    }
   ],
   "source": [
    "print('RESPONSE :', response)"
   ]
  },
  {
   "cell_type": "code",
   "execution_count": 41,
   "id": "adfed8aa",
   "metadata": {},
   "outputs": [
    {
     "data": {
      "text/plain": [
       "http.client.HTTPResponse"
      ]
     },
     "execution_count": 41,
     "metadata": {},
     "output_type": "execute_result"
    }
   ],
   "source": [
    "type(response)"
   ]
  },
  {
   "cell_type": "code",
   "execution_count": 42,
   "id": "207f77e4",
   "metadata": {},
   "outputs": [
    {
     "data": {
      "text/plain": [
       "str"
      ]
     },
     "execution_count": 42,
     "metadata": {},
     "output_type": "execute_result"
    }
   ],
   "source": [
    "type(response.geturl())"
   ]
  },
  {
   "cell_type": "code",
   "execution_count": 43,
   "id": "a515e276",
   "metadata": {},
   "outputs": [
    {
     "name": "stdout",
     "output_type": "stream",
     "text": [
      "URL : http://127.0.0.1:8080/\n"
     ]
    }
   ],
   "source": [
    "print('URL :', response.geturl())"
   ]
  },
  {
   "cell_type": "code",
   "execution_count": 44,
   "id": "8bad81b5",
   "metadata": {},
   "outputs": [],
   "source": [
    "headers = response.info()"
   ]
  },
  {
   "cell_type": "code",
   "execution_count": 45,
   "id": "db00a19d",
   "metadata": {},
   "outputs": [
    {
     "name": "stdout",
     "output_type": "stream",
     "text": [
      "----------------HEADERS-----------------\n",
      "Server: BaseHTTP/0.6 Python/3.11.9\n",
      "Date: Mon, 14 Apr 2025 19:15:02 GMT\n",
      "Content-Type: text/plain; charset=utf-8\n",
      "\n",
      "\n"
     ]
    }
   ],
   "source": [
    "print(f\"{'HEADERS':-^40}\")\n",
    "print(headers)"
   ]
  },
  {
   "cell_type": "code",
   "execution_count": 46,
   "id": "85f3870a",
   "metadata": {},
   "outputs": [
    {
     "name": "stdout",
     "output_type": "stream",
     "text": [
      "DATE\t: Mon, 14 Apr 2025 19:15:02 GMT\n"
     ]
    }
   ],
   "source": [
    "print(f'DATE\\t:', headers['date'])"
   ]
  },
  {
   "cell_type": "code",
   "execution_count": 47,
   "id": "ad77ebd1",
   "metadata": {},
   "outputs": [],
   "source": [
    "data = response.read().decode('utf-8')"
   ]
  },
  {
   "cell_type": "code",
   "execution_count": 48,
   "id": "e28a93f4",
   "metadata": {},
   "outputs": [
    {
     "name": "stdout",
     "output_type": "stream",
     "text": [
      "LENGTH : 351\n"
     ]
    }
   ],
   "source": [
    "print('LENGTH :', len(data))"
   ]
  },
  {
   "cell_type": "code",
   "execution_count": 49,
   "id": "77f44c80",
   "metadata": {},
   "outputs": [
    {
     "name": "stdout",
     "output_type": "stream",
     "text": [
      "------------------DATA------------------\n",
      "CLIENT VALUES:\n",
      "client_address=('127.0.0.1', 55120) (127.0.0.1)\n",
      "command=GET\n",
      "path=/\n",
      "real path=/\n",
      "query=\n",
      "request_version=HTTP/1.1\n",
      "\n",
      "SERVER VALUES:\n",
      "server_version=BaseHTTP/0.6\n",
      "sys_version=Python/3.11.9\n",
      "protocol_version=HTTP/1.0\n",
      "\n",
      "HEADERS RECEIVED:\n",
      "Accept-Encoding=identity\n",
      "Connection=close\n",
      "Host=127.0.0.1:8080\n",
      "User-Agent=Python-urllib/3.12\n",
      "\n"
     ]
    }
   ],
   "source": [
    "print(f\"{'DATA':-^40}\")\n",
    "print(data)"
   ]
  },
  {
   "cell_type": "code",
   "execution_count": null,
   "id": "00006f6f",
   "metadata": {},
   "outputs": [],
   "source": []
  }
 ],
 "metadata": {
  "kernelspec": {
   "display_name": "Python 3",
   "language": "python",
   "name": "python3"
  },
  "language_info": {
   "codemirror_mode": {
    "name": "ipython",
    "version": 3
   },
   "file_extension": ".py",
   "mimetype": "text/x-python",
   "name": "python",
   "nbconvert_exporter": "python",
   "pygments_lexer": "ipython3",
   "version": "3.12.10"
  }
 },
 "nbformat": 4,
 "nbformat_minor": 5
}
