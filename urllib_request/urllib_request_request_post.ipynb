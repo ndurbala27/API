{
 "cells": [
  {
   "cell_type": "code",
   "execution_count": null,
   "id": "a6c0f1b3",
   "metadata": {},
   "outputs": [],
   "source": [
    "from urllib import parse\n",
    "from urllib import request"
   ]
  },
  {
   "cell_type": "code",
   "execution_count": 12,
   "id": "8eadc19d",
   "metadata": {},
   "outputs": [],
   "source": [
    "query_args = {'q': 'query string', 'foo': 'bar'}"
   ]
  },
  {
   "cell_type": "code",
   "execution_count": 13,
   "id": "a2a3770b",
   "metadata": {},
   "outputs": [
    {
     "name": "stdout",
     "output_type": "stream",
     "text": [
      "Request method : POST\n"
     ]
    }
   ],
   "source": [
    "r = request.Request(\n",
    "         url='http://localhost:8080/',\n",
    "         data=parse.urlencode(query_args).encode('utf-8'),\n",
    "     )\n",
    "print('Request method :', r.get_method())"
   ]
  },
  {
   "cell_type": "code",
   "execution_count": 15,
   "id": "4e74e916",
   "metadata": {},
   "outputs": [
    {
     "name": "stdout",
     "output_type": "stream",
     "text": [
      "OUTGOING DATA:\n",
      "b'q=query+string&foo=bar'\n"
     ]
    }
   ],
   "source": [
    "r.add_header(\n",
    "         'User-agent',\n",
    "         'PyMOTW (https://pymotw.com/)',\n",
    "     )\n",
    "print('OUTGOING DATA:')\n",
    "print(r.data)"
   ]
  },
  {
   "cell_type": "code",
   "execution_count": 5,
   "id": "6a7b0cfc",
   "metadata": {},
   "outputs": [
    {
     "name": "stdout",
     "output_type": "stream",
     "text": [
      "SERVER RESPONSE:\n",
      "Client: ('127.0.0.1', 58041)\n",
      "User-agent: PyMOTW (https://pymotw.com/)\n",
      "Path: /\n",
      "Form data:\n",
      "\tfoo=bar\n",
      "\tq=query string\n",
      "\n"
     ]
    }
   ],
   "source": [
    "print('SERVER RESPONSE:')\n",
    "print(request.urlopen(r).read().decode('utf-8'))"
   ]
  },
  {
   "cell_type": "code",
   "execution_count": null,
   "id": "fe776036",
   "metadata": {},
   "outputs": [],
   "source": []
  }
 ],
 "metadata": {
  "kernelspec": {
   "display_name": "Python 3",
   "language": "python",
   "name": "python3"
  },
  "language_info": {
   "codemirror_mode": {
    "name": "ipython",
    "version": 3
   },
   "file_extension": ".py",
   "mimetype": "text/x-python",
   "name": "python",
   "nbconvert_exporter": "python",
   "pygments_lexer": "ipython3",
   "version": "3.12.10"
  }
 },
 "nbformat": 4,
 "nbformat_minor": 5
}
