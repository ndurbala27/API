{
 "cells": [
  {
   "cell_type": "code",
   "execution_count": 15,
   "id": "31c2c3d6",
   "metadata": {},
   "outputs": [
    {
     "name": "stdout",
     "output_type": "stream",
     "text": [
      "CLIENT VALUES:\n",
      "client_address=('127.0.0.1', 55534) (127.0.0.1)\n",
      "command=GET\n",
      "path=/\n",
      "real path=/\n",
      "query=\n",
      "request_version=HTTP/1.1\n",
      "\n",
      "SERVER VALUES:\n",
      "server_version=BaseHTTP/0.6\n",
      "sys_version=Python/3.11.9\n",
      "protocol_version=HTTP/1.0\n",
      "\n",
      "HEADERS RECEIVED:\n",
      "Accept-Encoding=identity\n",
      "Connection=close\n",
      "Host=localhost:8080\n",
      "User-Agent=Python-urllib/3.12\n"
     ]
    }
   ],
   "source": [
    "from urllib import request\n",
    "response = request.urlopen('http://localhost:8080/')\n",
    "for line in response:\n",
    "    print(line.decode('utf-8').rstrip())"
   ]
  },
  {
   "cell_type": "code",
   "execution_count": null,
   "id": "ec0ff3ab",
   "metadata": {},
   "outputs": [],
   "source": []
  }
 ],
 "metadata": {
  "kernelspec": {
   "display_name": "Python 3",
   "language": "python",
   "name": "python3"
  },
  "language_info": {
   "codemirror_mode": {
    "name": "ipython",
    "version": 3
   },
   "file_extension": ".py",
   "mimetype": "text/x-python",
   "name": "python",
   "nbconvert_exporter": "python",
   "pygments_lexer": "ipython3",
   "version": "3.12.10"
  }
 },
 "nbformat": 4,
 "nbformat_minor": 5
}
