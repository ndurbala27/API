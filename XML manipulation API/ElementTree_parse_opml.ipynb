{
 "cells": [
  {
   "cell_type": "code",
   "execution_count": 1,
   "id": "171c4f35",
   "metadata": {},
   "outputs": [],
   "source": [
    "from xml.etree import ElementTree\n",
    "from pprint import pprint as pprint"
   ]
  },
  {
   "cell_type": "code",
   "execution_count": 2,
   "id": "719a0d1c",
   "metadata": {},
   "outputs": [],
   "source": [
    "with open('podcasts.opml', 'rt') as f:\n",
    "    tree = ElementTree.parse(f)"
   ]
  },
  {
   "cell_type": "code",
   "execution_count": 3,
   "id": "bf17e985",
   "metadata": {},
   "outputs": [
    {
     "name": "stdout",
     "output_type": "stream",
     "text": [
      "<xml.etree.ElementTree.ElementTree object at 0x000002D607BE2F00>\n"
     ]
    }
   ],
   "source": [
    "print(tree)"
   ]
  },
  {
   "cell_type": "code",
   "execution_count": 4,
   "id": "bd85ed58",
   "metadata": {},
   "outputs": [
    {
     "name": "stdout",
     "output_type": "stream",
     "text": [
      "opml {'version': '1.0'}\n",
      "head {}\n",
      "title {}\n",
      "dateCreated {}\n",
      "dateModified {}\n",
      "body {}\n",
      "outline {'text': 'Non-tech'}\n",
      "outline {'text': '99% Invisible', 'type': 'rss', 'xmlUrl': 'http://feeds.99percentinvisible.org/99percentinvisible', 'htmlUrl': 'http://99percentinvisible.org'}\n",
      "outline {'text': 'Python'}\n",
      "outline {'text': 'Talk Python to Me', 'type': 'rss', 'xmlUrl': 'https://talkpython.fm/episodes/rss', 'htmlUrl': 'https://talkpython.fm'}\n",
      "outline {'text': 'Podcast.__init__', 'type': 'rss', 'xmlUrl': 'http://podcastinit.podbean.com/feed/', 'htmlUrl': 'http://podcastinit.com'}\n"
     ]
    }
   ],
   "source": [
    "for node in tree.iter():\n",
    "    print(node.tag, node.attrib)"
   ]
  },
  {
   "cell_type": "code",
   "execution_count": 6,
   "id": "328092fc",
   "metadata": {},
   "outputs": [
    {
     "name": "stdout",
     "output_type": "stream",
     "text": [
      "Non-tech\n",
      "99% Invisible  http://feeds.99percentinvisible.org/99percentinvisible\n",
      "Python\n",
      "Talk Python to Me  https://talkpython.fm/episodes/rss\n",
      "Podcast.__init__  http://podcastinit.podbean.com/feed/\n"
     ]
    }
   ],
   "source": [
    "for node in tree.iter('outline'):\n",
    "    name = node.attrib.get('text')\n",
    "    url = node.attrib.get('xmlUrl')\n",
    "    if name and url:\n",
    "        print(f'{name}  {url}')\n",
    "    else:\n",
    "        print(f'{name}')"
   ]
  },
  {
   "cell_type": "code",
   "execution_count": 7,
   "id": "f82e5aad",
   "metadata": {},
   "outputs": [
    {
     "name": "stdout",
     "output_type": "stream",
     "text": [
      "http://feeds.99percentinvisible.org/99percentinvisible\n",
      "https://talkpython.fm/episodes/rss\n",
      "http://podcastinit.podbean.com/feed/\n"
     ]
    }
   ],
   "source": [
    "for node in tree.findall('.//outline'):\n",
    "    url = node.attrib.get('xmlUrl')\n",
    "    if url:\n",
    "        print(url)"
   ]
  },
  {
   "cell_type": "code",
   "execution_count": 8,
   "id": "4df1acda",
   "metadata": {},
   "outputs": [
    {
     "name": "stdout",
     "output_type": "stream",
     "text": [
      "http://feeds.99percentinvisible.org/99percentinvisible\n",
      "https://talkpython.fm/episodes/rss\n",
      "http://podcastinit.podbean.com/feed/\n"
     ]
    }
   ],
   "source": [
    "for node in tree.findall('.//outline/outline'):\n",
    "    url = node.attrib.get('xmlUrl')\n",
    "    print(url)"
   ]
  },
  {
   "cell_type": "code",
   "execution_count": null,
   "id": "a7b1c381",
   "metadata": {},
   "outputs": [],
   "source": []
  }
 ],
 "metadata": {
  "kernelspec": {
   "display_name": "Python 3",
   "language": "python",
   "name": "python3"
  },
  "language_info": {
   "codemirror_mode": {
    "name": "ipython",
    "version": 3
   },
   "file_extension": ".py",
   "mimetype": "text/x-python",
   "name": "python",
   "nbconvert_exporter": "python",
   "pygments_lexer": "ipython3",
   "version": "3.12.10"
  }
 },
 "nbformat": 4,
 "nbformat_minor": 5
}
