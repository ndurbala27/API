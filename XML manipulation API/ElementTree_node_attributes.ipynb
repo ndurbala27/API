{
 "cells": [
  {
   "cell_type": "code",
   "execution_count": 1,
   "id": "3cb9f767",
   "metadata": {},
   "outputs": [],
   "source": [
    "from xml.etree import ElementTree"
   ]
  },
  {
   "cell_type": "code",
   "execution_count": 2,
   "id": "835484e3",
   "metadata": {},
   "outputs": [],
   "source": [
    "with open('data.xml', 'r') as f:\n",
    "    tree = ElementTree.parse(f)"
   ]
  },
  {
   "cell_type": "code",
   "execution_count": 10,
   "id": "35b2e124",
   "metadata": {},
   "outputs": [],
   "source": [
    "node = tree.find('./with_attributes')"
   ]
  },
  {
   "cell_type": "code",
   "execution_count": 12,
   "id": "4c80e432",
   "metadata": {},
   "outputs": [
    {
     "name": "stdout",
     "output_type": "stream",
     "text": [
      "with_attributes\n"
     ]
    }
   ],
   "source": [
    "print(node.tag)"
   ]
  },
  {
   "cell_type": "code",
   "execution_count": 16,
   "id": "7efd7d21",
   "metadata": {},
   "outputs": [
    {
     "name": "stdout",
     "output_type": "stream",
     "text": [
      "foo = \"bar\"\n",
      "name = \"value\"\n"
     ]
    }
   ],
   "source": [
    "for name, value in sorted(node.attrib.items()):\n",
    "    print(f'{name} = \"{value}\"')"
   ]
  },
  {
   "cell_type": "code",
   "execution_count": 21,
   "id": "bd54547c",
   "metadata": {},
   "outputs": [
    {
     "name": "stdout",
     "output_type": "stream",
     "text": [
      "child\n",
      " child node text:  Regular text.\n",
      " and tail text :  \n",
      "  \n",
      "child_with_tail\n",
      " child node text:  Regular text.\n",
      " and tail text :  \"Tail\" text.\n",
      "  \n"
     ]
    }
   ],
   "source": [
    "for path in ['./child', './child_with_tail']:\n",
    "    node = tree.find(path)\n",
    "    print(node.tag)\n",
    "    print(' child node text: ', node.text)\n",
    "    print(' and tail text : ', node.tail)"
   ]
  },
  {
   "cell_type": "code",
   "execution_count": 22,
   "id": "5410b329",
   "metadata": {},
   "outputs": [],
   "source": [
    "node = tree.find('entity_expansion')"
   ]
  },
  {
   "cell_type": "code",
   "execution_count": 27,
   "id": "4c6da32a",
   "metadata": {},
   "outputs": [
    {
     "name": "stdout",
     "output_type": "stream",
     "text": [
      "entity_expansion\n",
      " in attribute\t: This & That\n",
      " in text\t: That & This\n"
     ]
    }
   ],
   "source": [
    "print(node.tag)\n",
    "print(f' in attribute\\t:', node.attrib['attribute'])\n",
    "print(f' in text\\t:', node.text.strip())"
   ]
  },
  {
   "cell_type": "code",
   "execution_count": null,
   "id": "b1bca695",
   "metadata": {},
   "outputs": [],
   "source": []
  }
 ],
 "metadata": {
  "kernelspec": {
   "display_name": "Python 3",
   "language": "python",
   "name": "python3"
  },
  "language_info": {
   "codemirror_mode": {
    "name": "ipython",
    "version": 3
   },
   "file_extension": ".py",
   "mimetype": "text/x-python",
   "name": "python",
   "nbconvert_exporter": "python",
   "pygments_lexer": "ipython3",
   "version": "3.12.10"
  }
 },
 "nbformat": 4,
 "nbformat_minor": 5
}
