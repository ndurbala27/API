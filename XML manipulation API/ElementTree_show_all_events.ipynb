{
 "cells": [
  {
   "cell_type": "code",
   "execution_count": 23,
   "id": "451a8e45",
   "metadata": {},
   "outputs": [],
   "source": [
    "from xml.etree.ElementTree import iterparse"
   ]
  },
  {
   "cell_type": "code",
   "execution_count": 24,
   "id": "1b395d8f",
   "metadata": {},
   "outputs": [],
   "source": [
    "depth = 0\n",
    "prefix_width = 8\n",
    "prefix_dots = '.' * prefix_width\n",
    "line_template = ''.join([\n",
    "    '{prefix:<0.{prefix_len}}',\n",
    "    '{event:<8}',\n",
    "    '{suffix:<{suffix_len}}',\n",
    "    '{node.tag:<12}',\n",
    "    '{node_id}',\n",
    "])\n",
    "\n",
    "EVENT_NAMES = ['start', 'end', 'start-ns', 'end-ns']"
   ]
  },
  {
   "cell_type": "code",
   "execution_count": 25,
   "id": "a36a0a0c",
   "metadata": {},
   "outputs": [
    {
     "name": "stdout",
     "output_type": "stream",
     "text": [
      "start           opml        3206778634384\n",
      "..start         head        3206778635424\n",
      "....start       title       3206778637424\n",
      "....end         title       3206778637424\n",
      "....start       dateCreated 3206778641984\n",
      "....end         dateCreated 3206778641984\n",
      "....start       dateModified3206778641664\n",
      "....end         dateModified3206778641664\n",
      "..end           head        3206778635424\n",
      "..start         body        3206778635344\n",
      "....start       outline     3206778639184\n",
      "......start     outline     3206778639824\n",
      "......end       outline     3206778639824\n",
      "....end         outline     3206778639184\n",
      "....start       outline     3206778641584\n",
      "......start     outline     3206790609424\n",
      "......end       outline     3206790609424\n",
      "......start     outline     3206790598704\n",
      "......end       outline     3206790598704\n",
      "....end         outline     3206778641584\n",
      "..end           body        3206778635344\n",
      "end             opml        3206778634384\n"
     ]
    }
   ],
   "source": [
    "for (event, node) in iterparse('podcasts.opml', EVENT_NAMES):\n",
    "    if event == 'end':\n",
    "        depth -= 1\n",
    "    \n",
    "    prefix_len = depth * 2\n",
    "\n",
    "    print(line_template.format(\n",
    "        prefix=prefix_dots,\n",
    "        prefix_len=prefix_len,\n",
    "        suffix='',\n",
    "        suffix_len=(prefix_width - prefix_len),\n",
    "        node=node,\n",
    "        node_id=id(node),\n",
    "        event=event,\n",
    "    ))\n",
    "\n",
    "    if event == 'start':\n",
    "        depth += 1"
   ]
  },
  {
   "cell_type": "code",
   "execution_count": 26,
   "id": "22d4d70b",
   "metadata": {},
   "outputs": [],
   "source": [
    "import csv\n",
    "from xml.etree.ElementTree import iterparse\n",
    "import sys"
   ]
  },
  {
   "cell_type": "code",
   "execution_count": 27,
   "id": "0902fe5b",
   "metadata": {},
   "outputs": [],
   "source": [
    "writer = csv.writer(sys.stdout, quoting=csv.QUOTE_NONNUMERIC)\n",
    "group_name = ''"
   ]
  },
  {
   "cell_type": "code",
   "execution_count": 28,
   "id": "2718ddd0",
   "metadata": {},
   "outputs": [],
   "source": [
    "parsing = iterparse('podcasts.opml', events=['start'])"
   ]
  },
  {
   "cell_type": "code",
   "execution_count": 30,
   "id": "dbd9bc98",
   "metadata": {},
   "outputs": [
    {
     "name": "stdout",
     "output_type": "stream",
     "text": [
      "\"Non-tech\",\"99% Invisible\",\"http://feeds.99percentinvisible.org/99percentinvisible\",\"http://99percentinvisible.org\"\n",
      "\"Python\",\"Talk Python to Me\",\"https://talkpython.fm/episodes/rss\",\"https://talkpython.fm\"\n",
      "\"Python\",\"Podcast.__init__\",\"http://podcastinit.podbean.com/feed/\",\"http://podcastinit.com\"\n"
     ]
    }
   ],
   "source": [
    "for (event, node) in parsing:\n",
    "    if node.tag != 'outline':\n",
    "        # Ignore anything not part of the outline.\n",
    "        continue\n",
    "    if not node.attrib.get('xmlUrl'):\n",
    "        # Remember the current group.\n",
    "        group_name = node.attrib['text']\n",
    "    else:\n",
    "        # Output a podcast entry.\n",
    "        writer.writerow(\n",
    "            (group_name, \n",
    "            node.attrib['text'],\n",
    "            node.attrib['xmlUrl'], \n",
    "            node.attrib.get('htmlUrl', ''))\n",
    "            )"
   ]
  },
  {
   "cell_type": "code",
   "execution_count": null,
   "id": "54f5d144",
   "metadata": {},
   "outputs": [],
   "source": []
  }
 ],
 "metadata": {
  "kernelspec": {
   "display_name": "Python 3",
   "language": "python",
   "name": "python3"
  },
  "language_info": {
   "codemirror_mode": {
    "name": "ipython",
    "version": 3
   },
   "file_extension": ".py",
   "mimetype": "text/x-python",
   "name": "python",
   "nbconvert_exporter": "python",
   "pygments_lexer": "ipython3",
   "version": "3.12.10"
  }
 },
 "nbformat": 4,
 "nbformat_minor": 5
}
